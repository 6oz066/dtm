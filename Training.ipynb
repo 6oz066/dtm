{
 "cells": [
  {
   "metadata": {
    "ExecuteTime": {
     "end_time": "2025-05-22T13:51:14.452640Z",
     "start_time": "2025-05-22T13:51:00.160119Z"
    }
   },
   "cell_type": "code",
   "source": [
    "import numpy as np\n",
    "import pandas as pd\n",
    "import datetime\n",
    "import tensorflow as tf\n",
    "from keras import layers\n",
    "df = pd.read_csv('data/model_train.csv')\n",
    "df.columns"
   ],
   "id": "43b1b71c98203783",
   "outputs": [
    {
     "data": {
      "text/plain": [
       "Index(['Unnamed: 0', 'customer_id', 'mean_14_decay', 'max_14', 'sum_14',\n",
       "       'mean_30_decay', 'max_30', 'sum_30', 'mean_60_decay', 'max_60',\n",
       "       'sum_60', 'mean_91_decay', 'max_91', 'sum_91', 'mean_14_decay_2',\n",
       "       'max_14_2', 'mean_30_decay_2', 'max_30_2', 'mean_60_decay_2',\n",
       "       'max_60_2', 'mean_91_decay_2', 'max_91_2', 'has_sales_days_in_last_14',\n",
       "       'last_has_sales_day_in_last_14', 'first_has_sales_day_in_last_14',\n",
       "       'has_sales_days_in_last_30', 'last_has_sales_day_in_last_30',\n",
       "       'first_has_sales_day_in_last_30', 'has_sales_days_in_last_60',\n",
       "       'last_has_sales_day_in_last_60', 'first_has_sales_day_in_last_60',\n",
       "       'has_sales_days_in_last_91', 'last_has_sales_day_in_last_91',\n",
       "       'first_has_sales_day_in_last_91', 'goods_mean_21', 'goods_max_21',\n",
       "       'goods_sum_21', 'goods_mean_49', 'goods_max_49', 'goods_sum_49',\n",
       "       'goods_mean_84', 'goods_max_84', 'goods_sum_84', 'goods_mean_21_2',\n",
       "       'goods_max_21_2', 'goods_sum_21_2', 'goods_mean_49_2', 'goods_max_49_2',\n",
       "       'goods_sum_49_2', 'goods_mean_84_2', 'goods_max_84_2', 'goods_sum_84_2',\n",
       "       'goods_has_sales_days_in_last_21',\n",
       "       'goods_last_has_sales_day_in_last_21',\n",
       "       'goods_first_has_sales_day_in_last_21',\n",
       "       'goods_has_sales_days_in_last_49',\n",
       "       'goods_last_has_sales_day_in_last_49',\n",
       "       'goods_first_has_sales_day_in_last_49',\n",
       "       'goods_has_sales_days_in_last_84',\n",
       "       'goods_last_has_sales_day_in_last_84',\n",
       "       'goods_first_has_sales_day_in_last_84', 'label'],\n",
       "      dtype='object')"
      ]
     },
     "execution_count": 5,
     "metadata": {},
     "output_type": "execute_result"
    }
   ],
   "execution_count": 5
  },
  {
   "metadata": {
    "ExecuteTime": {
     "end_time": "2025-05-22T13:51:14.525375Z",
     "start_time": "2025-05-22T13:51:14.459857Z"
    }
   },
   "cell_type": "code",
   "source": [
    "# 选取特征 数据归一和编码\n",
    "feature = ['mean_14_decay','max_60_2', 'mean_91_decay_2', 'max_91_2','label']\n",
    "df_data = df[feature]\n",
    "df_data"
   ],
   "id": "5092dea382783c09",
   "outputs": [
    {
     "data": {
      "text/plain": [
       "         mean_14_decay  max_60_2  mean_91_decay_2  max_91_2  label\n",
       "0             0.000000       0.0         0.000000       0.0    0.0\n",
       "1             0.000000       0.0         0.000000       0.0    0.0\n",
       "2             0.000000       0.0         0.000000       0.0    0.0\n",
       "3             0.000000      39.9         7.393551      39.9    0.0\n",
       "4             0.000000       0.0         0.000000       0.0    0.0\n",
       "...                ...       ...              ...       ...    ...\n",
       "5930451       0.000000       0.0         0.000000       0.0    1.0\n",
       "5930452       0.000000       0.0         0.000000       0.0    0.0\n",
       "5930453       0.000000       0.0         0.000000       0.0    0.0\n",
       "5930454       0.000000       0.0         0.000000       0.0    0.0\n",
       "5930455      15.659149      49.9        32.739390      49.9    0.0\n",
       "\n",
       "[5930456 rows x 5 columns]"
      ],
      "text/html": [
       "<div>\n",
       "<style scoped>\n",
       "    .dataframe tbody tr th:only-of-type {\n",
       "        vertical-align: middle;\n",
       "    }\n",
       "\n",
       "    .dataframe tbody tr th {\n",
       "        vertical-align: top;\n",
       "    }\n",
       "\n",
       "    .dataframe thead th {\n",
       "        text-align: right;\n",
       "    }\n",
       "</style>\n",
       "<table border=\"1\" class=\"dataframe\">\n",
       "  <thead>\n",
       "    <tr style=\"text-align: right;\">\n",
       "      <th></th>\n",
       "      <th>mean_14_decay</th>\n",
       "      <th>max_60_2</th>\n",
       "      <th>mean_91_decay_2</th>\n",
       "      <th>max_91_2</th>\n",
       "      <th>label</th>\n",
       "    </tr>\n",
       "  </thead>\n",
       "  <tbody>\n",
       "    <tr>\n",
       "      <th>0</th>\n",
       "      <td>0.000000</td>\n",
       "      <td>0.0</td>\n",
       "      <td>0.000000</td>\n",
       "      <td>0.0</td>\n",
       "      <td>0.0</td>\n",
       "    </tr>\n",
       "    <tr>\n",
       "      <th>1</th>\n",
       "      <td>0.000000</td>\n",
       "      <td>0.0</td>\n",
       "      <td>0.000000</td>\n",
       "      <td>0.0</td>\n",
       "      <td>0.0</td>\n",
       "    </tr>\n",
       "    <tr>\n",
       "      <th>2</th>\n",
       "      <td>0.000000</td>\n",
       "      <td>0.0</td>\n",
       "      <td>0.000000</td>\n",
       "      <td>0.0</td>\n",
       "      <td>0.0</td>\n",
       "    </tr>\n",
       "    <tr>\n",
       "      <th>3</th>\n",
       "      <td>0.000000</td>\n",
       "      <td>39.9</td>\n",
       "      <td>7.393551</td>\n",
       "      <td>39.9</td>\n",
       "      <td>0.0</td>\n",
       "    </tr>\n",
       "    <tr>\n",
       "      <th>4</th>\n",
       "      <td>0.000000</td>\n",
       "      <td>0.0</td>\n",
       "      <td>0.000000</td>\n",
       "      <td>0.0</td>\n",
       "      <td>0.0</td>\n",
       "    </tr>\n",
       "    <tr>\n",
       "      <th>...</th>\n",
       "      <td>...</td>\n",
       "      <td>...</td>\n",
       "      <td>...</td>\n",
       "      <td>...</td>\n",
       "      <td>...</td>\n",
       "    </tr>\n",
       "    <tr>\n",
       "      <th>5930451</th>\n",
       "      <td>0.000000</td>\n",
       "      <td>0.0</td>\n",
       "      <td>0.000000</td>\n",
       "      <td>0.0</td>\n",
       "      <td>1.0</td>\n",
       "    </tr>\n",
       "    <tr>\n",
       "      <th>5930452</th>\n",
       "      <td>0.000000</td>\n",
       "      <td>0.0</td>\n",
       "      <td>0.000000</td>\n",
       "      <td>0.0</td>\n",
       "      <td>0.0</td>\n",
       "    </tr>\n",
       "    <tr>\n",
       "      <th>5930453</th>\n",
       "      <td>0.000000</td>\n",
       "      <td>0.0</td>\n",
       "      <td>0.000000</td>\n",
       "      <td>0.0</td>\n",
       "      <td>0.0</td>\n",
       "    </tr>\n",
       "    <tr>\n",
       "      <th>5930454</th>\n",
       "      <td>0.000000</td>\n",
       "      <td>0.0</td>\n",
       "      <td>0.000000</td>\n",
       "      <td>0.0</td>\n",
       "      <td>0.0</td>\n",
       "    </tr>\n",
       "    <tr>\n",
       "      <th>5930455</th>\n",
       "      <td>15.659149</td>\n",
       "      <td>49.9</td>\n",
       "      <td>32.739390</td>\n",
       "      <td>49.9</td>\n",
       "      <td>0.0</td>\n",
       "    </tr>\n",
       "  </tbody>\n",
       "</table>\n",
       "<p>5930456 rows × 5 columns</p>\n",
       "</div>"
      ]
     },
     "execution_count": 6,
     "metadata": {},
     "output_type": "execute_result"
    }
   ],
   "execution_count": 6
  },
  {
   "metadata": {
    "ExecuteTime": {
     "end_time": "2025-05-22T13:51:15.491875Z",
     "start_time": "2025-05-22T13:51:14.564410Z"
    }
   },
   "cell_type": "code",
   "source": [
    "# 训练集 测试集的切割\n",
    "from sklearn.model_selection import train_test_split\n",
    "xtest, xtrain = train_test_split(df_data.sample(20000))\n",
    "train = tf.data.Dataset.from_tensor_slices((xtrain.drop(columns = 'label'),xtrain['label']))\n",
    "test = tf.data.Dataset.from_tensor_slices((xtest.drop(columns = 'label'),xtest['label']))"
   ],
   "id": "2a6def0ae22ed429",
   "outputs": [],
   "execution_count": 7
  },
  {
   "metadata": {
    "ExecuteTime": {
     "end_time": "2025-05-22T13:51:18.397111Z",
     "start_time": "2025-05-22T13:51:15.512726Z"
    }
   },
   "cell_type": "code",
   "source": [
    "# 组网\n",
    "nnmodel = tf.keras.Sequential([\n",
    "    layers.InputLayer(shape = (4,)),\n",
    "    layers.Dense(64,activation='relu'),\n",
    "    layers.Dense(1,activation='sigmoid')\n",
    "])\n",
    "model =nnmodel\n",
    "model.compile(\n",
    "    optimizer = 'adam',\n",
    "    loss = 'mse',\n",
    "    metrics = ['accuracy']\n",
    ")\n",
    "h = model.fit(train.batch(1))"
   ],
   "id": "4ede0d45981197bb",
   "outputs": [
    {
     "name": "stdout",
     "output_type": "stream",
     "text": [
      "\u001B[1m5000/5000\u001B[0m \u001B[32m━━━━━━━━━━━━━━━━━━━━\u001B[0m\u001B[37m\u001B[0m \u001B[1m3s\u001B[0m 451us/step - accuracy: 0.9250 - loss: 0.0875\n"
     ]
    }
   ],
   "execution_count": 8
  },
  {
   "cell_type": "code",
   "id": "initial_id",
   "metadata": {
    "collapsed": true,
    "ExecuteTime": {
     "end_time": "2025-05-22T13:52:05.573160Z",
     "start_time": "2025-05-22T13:51:59.611607Z"
    }
   },
   "source": [
    "print(h.history)\n",
    "result = model.evaluate(test.batch(1))\n",
    "print(result)\n",
    "model.save('model.keras')"
   ],
   "outputs": [
    {
     "name": "stdout",
     "output_type": "stream",
     "text": [
      "{'accuracy': [0.9291999936103821], 'loss': [0.07046790421009064]}\n",
      "\u001B[1m15000/15000\u001B[0m \u001B[32m━━━━━━━━━━━━━━━━━━━━\u001B[0m\u001B[37m\u001B[0m \u001B[1m6s\u001B[0m 394us/step - accuracy: 0.9266 - loss: 0.0675\n",
      "[0.06584281474351883, 0.9286666512489319]\n"
     ]
    }
   ],
   "execution_count": 11
  },
  {
   "metadata": {
    "ExecuteTime": {
     "end_time": "2025-05-22T13:51:24.418696400Z",
     "start_time": "2025-05-22T08:57:22.043630Z"
    }
   },
   "cell_type": "code",
   "source": "# 输出提交结果",
   "id": "dc9e006ce5542c9d",
   "outputs": [],
   "execution_count": null
  }
 ],
 "metadata": {
  "kernelspec": {
   "display_name": "Python 3 (ipykernel)",
   "language": "python",
   "name": "python3"
  },
  "language_info": {
   "codemirror_mode": {
    "name": "ipython",
    "version": 2
   },
   "file_extension": ".py",
   "mimetype": "text/x-python",
   "name": "python",
   "nbconvert_exporter": "python",
   "pygments_lexer": "ipython2",
   "version": "2.7.6"
  }
 },
 "nbformat": 4,
 "nbformat_minor": 5
}
