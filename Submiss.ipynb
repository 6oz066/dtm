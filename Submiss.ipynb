{
 "cells": [
  {
   "cell_type": "code",
   "id": "initial_id",
   "metadata": {
    "collapsed": true,
    "ExecuteTime": {
     "end_time": "2025-05-23T01:41:02.791411Z",
     "start_time": "2025-05-23T01:41:00.658246Z"
    }
   },
   "source": [
    "import numpy as np\n",
    "import pandas as pd\n",
    "import tensorflow as tf"
   ],
   "outputs": [],
   "execution_count": 1
  },
  {
   "metadata": {
    "ExecuteTime": {
     "end_time": "2025-05-23T01:41:06.526701Z",
     "start_time": "2025-05-23T01:41:02.844715Z"
    }
   },
   "cell_type": "code",
   "source": [
    "model = tf.keras.models.load_model('model.keras')\n",
    "df_s = pd.read_csv('data/submission.csv')\n",
    "df = pd.read_csv('data/model_test.csv')"
   ],
   "id": "433366a3decc8f57",
   "outputs": [],
   "execution_count": 2
  },
  {
   "metadata": {
    "ExecuteTime": {
     "end_time": "2025-05-23T01:41:06.549997Z",
     "start_time": "2025-05-23T01:41:06.546379Z"
    }
   },
   "cell_type": "code",
   "source": [
    "feature = ['mean_14_decay', 'max_14', 'sum_14',\n",
    "       'mean_30_decay', 'max_30', 'sum_30', 'mean_60_decay', 'max_60',\n",
    "       'sum_60', 'mean_91_decay', 'max_91', 'sum_91', 'mean_14_decay_2',\n",
    "       'max_14_2', 'mean_30_decay_2', 'max_30_2', 'mean_60_decay_2',\n",
    "       'max_60_2', 'mean_91_decay_2', 'max_91_2', 'has_sales_days_in_last_14',\n",
    "       'last_has_sales_day_in_last_14', 'first_has_sales_day_in_last_14',\n",
    "       'has_sales_days_in_last_30', 'last_has_sales_day_in_last_30',\n",
    "       'first_has_sales_day_in_last_30', 'has_sales_days_in_last_60',\n",
    "       'last_has_sales_day_in_last_60', 'first_has_sales_day_in_last_60',\n",
    "       'has_sales_days_in_last_91', 'last_has_sales_day_in_last_91',\n",
    "       'first_has_sales_day_in_last_91', 'goods_mean_21', 'goods_max_21',\n",
    "       'goods_sum_21', 'goods_mean_49', 'goods_max_49', 'goods_sum_49',\n",
    "       'goods_mean_84', 'goods_max_84', 'goods_sum_84', 'goods_mean_21_2',\n",
    "       'goods_max_21_2', 'goods_sum_21_2', 'goods_mean_49_2', 'goods_max_49_2',\n",
    "       'goods_sum_49_2', 'goods_mean_84_2', 'goods_max_84_2', 'goods_sum_84_2',\n",
    "       'goods_has_sales_days_in_last_21',\n",
    "       'goods_last_has_sales_day_in_last_21',\n",
    "       'goods_first_has_sales_day_in_last_21',\n",
    "       'goods_has_sales_days_in_last_49',\n",
    "       'goods_last_has_sales_day_in_last_49',\n",
    "       'goods_first_has_sales_day_in_last_49',\n",
    "       'goods_has_sales_days_in_last_84',\n",
    "       'goods_last_has_sales_day_in_last_84',\n",
    "       'goods_first_has_sales_day_in_last_84']"
   ],
   "id": "61a61d9b1a93e5a",
   "outputs": [],
   "execution_count": 3
  },
  {
   "metadata": {
    "ExecuteTime": {
     "end_time": "2025-05-23T01:41:42.147790Z",
     "start_time": "2025-05-23T01:41:06.599591Z"
    }
   },
   "cell_type": "code",
   "source": [
    "# 先筛选有效数据再循环\n",
    "merged = pd.merge(df_s, df, on='customer_id', how='left')\n",
    "# 批量预测\n",
    "merged[feature] = merged[feature].fillna(0)\n",
    "batch_pred = model.predict(merged[feature])"
   ],
   "id": "9384843cf78c446b",
   "outputs": [
    {
     "name": "stdout",
     "output_type": "stream",
     "text": [
      "\u001B[1m49563/49563\u001B[0m \u001B[32m━━━━━━━━━━━━━━━━━━━━\u001B[0m\u001B[37m\u001B[0m \u001B[1m20s\u001B[0m 393us/step\n"
     ]
    }
   ],
   "execution_count": 5
  },
  {
   "metadata": {
    "ExecuteTime": {
     "end_time": "2025-05-23T01:43:40.467904Z",
     "start_time": "2025-05-23T01:43:39.882018Z"
    }
   },
   "cell_type": "code",
   "source": [
    "df_s['result'] = (batch_pred > 0.5).astype(int)\n",
    "df_s.to_csv('sub22.csv',index=False)"
   ],
   "id": "272916a104c48272",
   "outputs": [],
   "execution_count": 9
  },
  {
   "metadata": {
    "ExecuteTime": {
     "end_time": "2025-05-23T01:41:43.036958Z",
     "start_time": "2025-05-23T01:41:43.028950Z"
    }
   },
   "cell_type": "code",
   "source": "df_s",
   "id": "148d1991d6840b25",
   "outputs": [
    {
     "data": {
      "text/plain": [
       "         customer_id  result\n",
       "0            1000000       0\n",
       "1            1000014       0\n",
       "2            1000034       0\n",
       "3            1000046       0\n",
       "4            1000048       0\n",
       "...              ...     ...\n",
       "1585981      2826570       0\n",
       "1585982      2826571       0\n",
       "1585983      2826572       0\n",
       "1585984      2826573       0\n",
       "1585985      2826574       0\n",
       "\n",
       "[1585986 rows x 2 columns]"
      ],
      "text/html": [
       "<div>\n",
       "<style scoped>\n",
       "    .dataframe tbody tr th:only-of-type {\n",
       "        vertical-align: middle;\n",
       "    }\n",
       "\n",
       "    .dataframe tbody tr th {\n",
       "        vertical-align: top;\n",
       "    }\n",
       "\n",
       "    .dataframe thead th {\n",
       "        text-align: right;\n",
       "    }\n",
       "</style>\n",
       "<table border=\"1\" class=\"dataframe\">\n",
       "  <thead>\n",
       "    <tr style=\"text-align: right;\">\n",
       "      <th></th>\n",
       "      <th>customer_id</th>\n",
       "      <th>result</th>\n",
       "    </tr>\n",
       "  </thead>\n",
       "  <tbody>\n",
       "    <tr>\n",
       "      <th>0</th>\n",
       "      <td>1000000</td>\n",
       "      <td>0</td>\n",
       "    </tr>\n",
       "    <tr>\n",
       "      <th>1</th>\n",
       "      <td>1000014</td>\n",
       "      <td>0</td>\n",
       "    </tr>\n",
       "    <tr>\n",
       "      <th>2</th>\n",
       "      <td>1000034</td>\n",
       "      <td>0</td>\n",
       "    </tr>\n",
       "    <tr>\n",
       "      <th>3</th>\n",
       "      <td>1000046</td>\n",
       "      <td>0</td>\n",
       "    </tr>\n",
       "    <tr>\n",
       "      <th>4</th>\n",
       "      <td>1000048</td>\n",
       "      <td>0</td>\n",
       "    </tr>\n",
       "    <tr>\n",
       "      <th>...</th>\n",
       "      <td>...</td>\n",
       "      <td>...</td>\n",
       "    </tr>\n",
       "    <tr>\n",
       "      <th>1585981</th>\n",
       "      <td>2826570</td>\n",
       "      <td>0</td>\n",
       "    </tr>\n",
       "    <tr>\n",
       "      <th>1585982</th>\n",
       "      <td>2826571</td>\n",
       "      <td>0</td>\n",
       "    </tr>\n",
       "    <tr>\n",
       "      <th>1585983</th>\n",
       "      <td>2826572</td>\n",
       "      <td>0</td>\n",
       "    </tr>\n",
       "    <tr>\n",
       "      <th>1585984</th>\n",
       "      <td>2826573</td>\n",
       "      <td>0</td>\n",
       "    </tr>\n",
       "    <tr>\n",
       "      <th>1585985</th>\n",
       "      <td>2826574</td>\n",
       "      <td>0</td>\n",
       "    </tr>\n",
       "  </tbody>\n",
       "</table>\n",
       "<p>1585986 rows × 2 columns</p>\n",
       "</div>"
      ]
     },
     "execution_count": 8,
     "metadata": {},
     "output_type": "execute_result"
    }
   ],
   "execution_count": 8
  }
 ],
 "metadata": {
  "kernelspec": {
   "display_name": "Python 3",
   "language": "python",
   "name": "python3"
  },
  "language_info": {
   "codemirror_mode": {
    "name": "ipython",
    "version": 2
   },
   "file_extension": ".py",
   "mimetype": "text/x-python",
   "name": "python",
   "nbconvert_exporter": "python",
   "pygments_lexer": "ipython2",
   "version": "2.7.6"
  }
 },
 "nbformat": 4,
 "nbformat_minor": 5
}
