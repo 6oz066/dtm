{
 "cells": [
  {
   "cell_type": "code",
   "id": "initial_id",
   "metadata": {
    "collapsed": true,
    "ExecuteTime": {
     "end_time": "2025-05-22T16:55:54.574430Z",
     "start_time": "2025-05-22T16:55:51.318245Z"
    }
   },
   "source": [
    "import numpy as np\n",
    "import pandas as pd\n",
    "import tensorflow as tf"
   ],
   "outputs": [],
   "execution_count": 1
  },
  {
   "metadata": {
    "ExecuteTime": {
     "end_time": "2025-05-22T16:55:57.970144Z",
     "start_time": "2025-05-22T16:55:54.626809Z"
    }
   },
   "cell_type": "code",
   "source": [
    "model = tf.keras.models.load_model('model.keras')\n",
    "df_s = pd.read_csv('data/submission.csv')\n",
    "df = pd.read_csv('data/model_test.csv')"
   ],
   "id": "433366a3decc8f57",
   "outputs": [],
   "execution_count": 2
  },
  {
   "metadata": {
    "ExecuteTime": {
     "end_time": "2025-05-22T16:55:58.015265Z",
     "start_time": "2025-05-22T16:55:58.010229Z"
    }
   },
   "cell_type": "code",
   "source": "feature = ['mean_14_decay','max_60_2', 'mean_91_decay_2', 'max_91_2']",
   "id": "61a61d9b1a93e5a",
   "outputs": [],
   "execution_count": 3
  },
  {
   "metadata": {
    "ExecuteTime": {
     "end_time": "2025-05-22T16:55:58.040611Z",
     "start_time": "2025-05-22T16:55:58.038179Z"
    }
   },
   "cell_type": "code",
   "source": [
    "# for cid in df_s['customer_id']:\n",
    "#     if cid not in df['customer_id']:\n",
    "#         continue\n",
    "#     tmp = df[df['customer_id']==cid]\n",
    "#     xtest = tmp[feature]\n",
    "#     # xtest = tf.data.Dataset.from_tensor_slices(xtest)\n",
    "#     if len(xtest) == 0:  # 检查数据是否为空\n",
    "#         df_s.loc[df_s['customer_id'] == cid,'result'] = 0\n",
    "#         continue\n",
    "#     ytest = model.predict(xtest,verbose = 0)\n",
    "#     ytest = int(ytest[0]>0.5)\n",
    "#     df_s.loc[df_s['customer_id'] == cid,'result'] = ytest\n",
    "# df_s.to_csv('sub22.csv')"
   ],
   "id": "bb4ba10fc71cb0f3",
   "outputs": [],
   "execution_count": 4
  },
  {
   "metadata": {
    "ExecuteTime": {
     "end_time": "2025-05-22T16:56:32.706143Z",
     "start_time": "2025-05-22T16:55:58.057064Z"
    }
   },
   "cell_type": "code",
   "source": [
    "# 先筛选有效数据再循环\n",
    "merged = pd.merge(df_s, df, on='customer_id', how='left')\n",
    "# 批量预测\n",
    "merged[feature] = merged[feature].fillna(0)\n",
    "batch_pred = model.predict(merged[feature])"
   ],
   "id": "9384843cf78c446b",
   "outputs": [
    {
     "name": "stdout",
     "output_type": "stream",
     "text": [
      "\u001B[1m49563/49563\u001B[0m \u001B[32m━━━━━━━━━━━━━━━━━━━━\u001B[0m\u001B[37m\u001B[0m \u001B[1m19s\u001B[0m 387us/step\n"
     ]
    }
   ],
   "execution_count": 5
  },
  {
   "metadata": {
    "ExecuteTime": {
     "end_time": "2025-05-22T16:58:12.033701Z",
     "start_time": "2025-05-22T16:58:12.029632Z"
    }
   },
   "cell_type": "code",
   "source": "batch_pred",
   "id": "9d357cac87e494a9",
   "outputs": [
    {
     "data": {
      "text/plain": [
       "array([[7.8066431e-02],\n",
       "       [5.5550193e-24],\n",
       "       [7.8066431e-02],\n",
       "       ...,\n",
       "       [7.8066431e-02],\n",
       "       [7.8066431e-02],\n",
       "       [5.6183166e-23]], dtype=float32)"
      ]
     },
     "execution_count": 8,
     "metadata": {},
     "output_type": "execute_result"
    }
   ],
   "execution_count": 8
  },
  {
   "metadata": {
    "ExecuteTime": {
     "end_time": "2025-05-22T16:56:33.555955Z",
     "start_time": "2025-05-22T16:56:32.743460Z"
    }
   },
   "cell_type": "code",
   "source": [
    "df_s['result'] = (batch_pred > 0.5).astype(int)\n",
    "df_s.to_csv('sub22.csv')"
   ],
   "id": "272916a104c48272",
   "outputs": [],
   "execution_count": 6
  },
  {
   "metadata": {
    "ExecuteTime": {
     "end_time": "2025-05-22T16:57:03.229892Z",
     "start_time": "2025-05-22T16:57:03.220999Z"
    }
   },
   "cell_type": "code",
   "source": "df_s",
   "id": "148d1991d6840b25",
   "outputs": [
    {
     "data": {
      "text/plain": [
       "         customer_id  result\n",
       "0            1000000       0\n",
       "1            1000014       0\n",
       "2            1000034       0\n",
       "3            1000046       0\n",
       "4            1000048       0\n",
       "...              ...     ...\n",
       "1585981      2826570       0\n",
       "1585982      2826571       0\n",
       "1585983      2826572       0\n",
       "1585984      2826573       0\n",
       "1585985      2826574       0\n",
       "\n",
       "[1585986 rows x 2 columns]"
      ],
      "text/html": [
       "<div>\n",
       "<style scoped>\n",
       "    .dataframe tbody tr th:only-of-type {\n",
       "        vertical-align: middle;\n",
       "    }\n",
       "\n",
       "    .dataframe tbody tr th {\n",
       "        vertical-align: top;\n",
       "    }\n",
       "\n",
       "    .dataframe thead th {\n",
       "        text-align: right;\n",
       "    }\n",
       "</style>\n",
       "<table border=\"1\" class=\"dataframe\">\n",
       "  <thead>\n",
       "    <tr style=\"text-align: right;\">\n",
       "      <th></th>\n",
       "      <th>customer_id</th>\n",
       "      <th>result</th>\n",
       "    </tr>\n",
       "  </thead>\n",
       "  <tbody>\n",
       "    <tr>\n",
       "      <th>0</th>\n",
       "      <td>1000000</td>\n",
       "      <td>0</td>\n",
       "    </tr>\n",
       "    <tr>\n",
       "      <th>1</th>\n",
       "      <td>1000014</td>\n",
       "      <td>0</td>\n",
       "    </tr>\n",
       "    <tr>\n",
       "      <th>2</th>\n",
       "      <td>1000034</td>\n",
       "      <td>0</td>\n",
       "    </tr>\n",
       "    <tr>\n",
       "      <th>3</th>\n",
       "      <td>1000046</td>\n",
       "      <td>0</td>\n",
       "    </tr>\n",
       "    <tr>\n",
       "      <th>4</th>\n",
       "      <td>1000048</td>\n",
       "      <td>0</td>\n",
       "    </tr>\n",
       "    <tr>\n",
       "      <th>...</th>\n",
       "      <td>...</td>\n",
       "      <td>...</td>\n",
       "    </tr>\n",
       "    <tr>\n",
       "      <th>1585981</th>\n",
       "      <td>2826570</td>\n",
       "      <td>0</td>\n",
       "    </tr>\n",
       "    <tr>\n",
       "      <th>1585982</th>\n",
       "      <td>2826571</td>\n",
       "      <td>0</td>\n",
       "    </tr>\n",
       "    <tr>\n",
       "      <th>1585983</th>\n",
       "      <td>2826572</td>\n",
       "      <td>0</td>\n",
       "    </tr>\n",
       "    <tr>\n",
       "      <th>1585984</th>\n",
       "      <td>2826573</td>\n",
       "      <td>0</td>\n",
       "    </tr>\n",
       "    <tr>\n",
       "      <th>1585985</th>\n",
       "      <td>2826574</td>\n",
       "      <td>0</td>\n",
       "    </tr>\n",
       "  </tbody>\n",
       "</table>\n",
       "<p>1585986 rows × 2 columns</p>\n",
       "</div>"
      ]
     },
     "execution_count": 7,
     "metadata": {},
     "output_type": "execute_result"
    }
   ],
   "execution_count": 7
  }
 ],
 "metadata": {
  "kernelspec": {
   "display_name": "Python 3",
   "language": "python",
   "name": "python3"
  },
  "language_info": {
   "codemirror_mode": {
    "name": "ipython",
    "version": 2
   },
   "file_extension": ".py",
   "mimetype": "text/x-python",
   "name": "python",
   "nbconvert_exporter": "python",
   "pygments_lexer": "ipython2",
   "version": "2.7.6"
  }
 },
 "nbformat": 4,
 "nbformat_minor": 5
}
